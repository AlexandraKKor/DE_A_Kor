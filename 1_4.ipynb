{
 "cells": [
  {
   "cell_type": "code",
   "execution_count": 1,
   "id": "bc8dfee3-710c-4c2f-aff7-25a41ac384f9",
   "metadata": {},
   "outputs": [],
   "source": [
    "import pandas as pd\n",
    "import psycopg2\n",
    "import numpy as np"
   ]
  },
  {
   "cell_type": "code",
   "execution_count": 15,
   "id": "53c69644-6aeb-4183-8945-04942bbf3438",
   "metadata": {},
   "outputs": [
    {
     "data": {
      "text/html": [
       "<div>\n",
       "<style scoped>\n",
       "    .dataframe tbody tr th:only-of-type {\n",
       "        vertical-align: middle;\n",
       "    }\n",
       "\n",
       "    .dataframe tbody tr th {\n",
       "        vertical-align: top;\n",
       "    }\n",
       "\n",
       "    .dataframe thead th {\n",
       "        text-align: right;\n",
       "    }\n",
       "</style>\n",
       "<table border=\"1\" class=\"dataframe\">\n",
       "  <thead>\n",
       "    <tr style=\"text-align: right;\">\n",
       "      <th></th>\n",
       "      <th>from_date</th>\n",
       "      <th>to_date</th>\n",
       "      <th>chapter</th>\n",
       "      <th>ledger_account</th>\n",
       "      <th>characteristic</th>\n",
       "      <th>balance_in_rub</th>\n",
       "      <th>r_balance_in_rub</th>\n",
       "      <th>balance_in_val</th>\n",
       "      <th>r_balance_in_val</th>\n",
       "      <th>balance_in_total</th>\n",
       "      <th>...</th>\n",
       "      <th>r_turn_cre_val</th>\n",
       "      <th>turn_cre_total</th>\n",
       "      <th>r_turn_cre_total</th>\n",
       "      <th>balance_out_rub</th>\n",
       "      <th>r_balance_out_rub</th>\n",
       "      <th>balance_out_val</th>\n",
       "      <th>r_balance_out_val</th>\n",
       "      <th>balance_out_total</th>\n",
       "      <th>r_balance_out_total</th>\n",
       "      <th>DATE</th>\n",
       "    </tr>\n",
       "  </thead>\n",
       "  <tbody>\n",
       "  </tbody>\n",
       "</table>\n",
       "<p>0 rows × 30 columns</p>\n",
       "</div>"
      ],
      "text/plain": [
       "Empty DataFrame\n",
       "Columns: [from_date, to_date, chapter, ledger_account, characteristic, balance_in_rub, r_balance_in_rub, balance_in_val, r_balance_in_val, balance_in_total, r_balance_in_total, turn_deb_rub, r_turn_deb_rub, turn_deb_val, r_turn_deb_val, turn_deb_total, r_turn_deb_total, turn_cre_rub, r_turn_cre_rub, turn_cre_val, r_turn_cre_val, turn_cre_total, r_turn_cre_total, balance_out_rub, r_balance_out_rub, balance_out_val, r_balance_out_val, balance_out_total, r_balance_out_total, DATE]\n",
       "Index: []\n",
       "\n",
       "[0 rows x 30 columns]"
      ]
     },
     "execution_count": 15,
     "metadata": {},
     "output_type": "execute_result"
    }
   ],
   "source": [
    "df = pd.read_csv(r'C:\\Users\\Alexandra\\Desktop\\neo_pr\\dm.fill_f101_round_f1.csv', sep =',')\n",
    "df"
   ]
  },
  {
   "cell_type": "code",
   "execution_count": 16,
   "id": "3c97e582-5576-464a-9e21-20bd407ae2c5",
   "metadata": {},
   "outputs": [],
   "source": [
    "df.loc[0, 'from_date'] = '02.02.2022'"
   ]
  },
  {
   "cell_type": "code",
   "execution_count": 17,
   "id": "dc9e3b44-9b82-4ea7-9d82-fba4ca3f4b0f",
   "metadata": {},
   "outputs": [
    {
     "data": {
      "text/html": [
       "<div>\n",
       "<style scoped>\n",
       "    .dataframe tbody tr th:only-of-type {\n",
       "        vertical-align: middle;\n",
       "    }\n",
       "\n",
       "    .dataframe tbody tr th {\n",
       "        vertical-align: top;\n",
       "    }\n",
       "\n",
       "    .dataframe thead th {\n",
       "        text-align: right;\n",
       "    }\n",
       "</style>\n",
       "<table border=\"1\" class=\"dataframe\">\n",
       "  <thead>\n",
       "    <tr style=\"text-align: right;\">\n",
       "      <th></th>\n",
       "      <th>from_date</th>\n",
       "      <th>to_date</th>\n",
       "      <th>chapter</th>\n",
       "      <th>ledger_account</th>\n",
       "      <th>characteristic</th>\n",
       "      <th>balance_in_rub</th>\n",
       "      <th>r_balance_in_rub</th>\n",
       "      <th>balance_in_val</th>\n",
       "      <th>r_balance_in_val</th>\n",
       "      <th>balance_in_total</th>\n",
       "      <th>...</th>\n",
       "      <th>r_turn_cre_val</th>\n",
       "      <th>turn_cre_total</th>\n",
       "      <th>r_turn_cre_total</th>\n",
       "      <th>balance_out_rub</th>\n",
       "      <th>r_balance_out_rub</th>\n",
       "      <th>balance_out_val</th>\n",
       "      <th>r_balance_out_val</th>\n",
       "      <th>balance_out_total</th>\n",
       "      <th>r_balance_out_total</th>\n",
       "      <th>DATE</th>\n",
       "    </tr>\n",
       "  </thead>\n",
       "  <tbody>\n",
       "    <tr>\n",
       "      <th>0</th>\n",
       "      <td>02.02.2022</td>\n",
       "      <td>NaN</td>\n",
       "      <td>NaN</td>\n",
       "      <td>NaN</td>\n",
       "      <td>NaN</td>\n",
       "      <td>NaN</td>\n",
       "      <td>NaN</td>\n",
       "      <td>NaN</td>\n",
       "      <td>NaN</td>\n",
       "      <td>NaN</td>\n",
       "      <td>...</td>\n",
       "      <td>NaN</td>\n",
       "      <td>NaN</td>\n",
       "      <td>NaN</td>\n",
       "      <td>NaN</td>\n",
       "      <td>NaN</td>\n",
       "      <td>NaN</td>\n",
       "      <td>NaN</td>\n",
       "      <td>NaN</td>\n",
       "      <td>NaN</td>\n",
       "      <td>NaN</td>\n",
       "    </tr>\n",
       "  </tbody>\n",
       "</table>\n",
       "<p>1 rows × 30 columns</p>\n",
       "</div>"
      ],
      "text/plain": [
       "    from_date to_date chapter ledger_account characteristic balance_in_rub  \\\n",
       "0  02.02.2022     NaN     NaN            NaN            NaN            NaN   \n",
       "\n",
       "  r_balance_in_rub balance_in_val r_balance_in_val balance_in_total  ...  \\\n",
       "0              NaN            NaN              NaN              NaN  ...   \n",
       "\n",
       "  r_turn_cre_val turn_cre_total r_turn_cre_total balance_out_rub  \\\n",
       "0            NaN            NaN              NaN             NaN   \n",
       "\n",
       "  r_balance_out_rub balance_out_val r_balance_out_val balance_out_total  \\\n",
       "0               NaN             NaN               NaN               NaN   \n",
       "\n",
       "  r_balance_out_total DATE  \n",
       "0                 NaN  NaN  \n",
       "\n",
       "[1 rows x 30 columns]"
      ]
     },
     "execution_count": 17,
     "metadata": {},
     "output_type": "execute_result"
    }
   ],
   "source": [
    "df"
   ]
  },
  {
   "cell_type": "code",
   "execution_count": 18,
   "id": "df280624-2785-4493-9482-b730b9d7df50",
   "metadata": {},
   "outputs": [],
   "source": [
    "# Указываем путь к папке и имя файла\n",
    "file_path = r'C:\\Users\\Alexandra\\Desktop\\neo_pr\\dm.fill_f101_round_f.csv'\n",
    "\n",
    "# Сохраняем DataFrame в CSV файл\n",
    "df.to_csv(file_path, index=False)\n"
   ]
  },
  {
   "cell_type": "code",
   "execution_count": 2,
   "id": "70784314-76cb-495b-8904-1cc78c915530",
   "metadata": {},
   "outputs": [
    {
     "ename": "InsufficientPrivilege",
     "evalue": "could not open file \"C:/Users/Alexandra/Desktop/neo_pr/dm.fill_f101_round_f1.csv\" for writing: Permission denied\nHINT:  COPY TO instructs the PostgreSQL server process to write a file. You may want a client-side facility such as psql's \\copy.\n",
     "output_type": "error",
     "traceback": [
      "\u001b[1;31m---------------------------------------------------------------------------\u001b[0m",
      "\u001b[1;31mInsufficientPrivilege\u001b[0m                     Traceback (most recent call last)",
      "Cell \u001b[1;32mIn[2], line 6\u001b[0m\n\u001b[0;32m      4\u001b[0m \u001b[38;5;66;03m# переменная conn создаёт подключение к БД\u001b[39;00m\n\u001b[0;32m      5\u001b[0m cur \u001b[38;5;241m=\u001b[39m conn\u001b[38;5;241m.\u001b[39mcursor() \n\u001b[1;32m----> 6\u001b[0m cur\u001b[38;5;241m.\u001b[39mcopy_expert(\u001b[38;5;124m\"\u001b[39m\u001b[38;5;124mCOPY (SELECT * FROM dm.dm_f101_round_f) TO \u001b[39m\u001b[38;5;124m'\u001b[39m\u001b[38;5;124mC:/Users/Alexandra/Desktop/neo_pr/dm.fill_f101_round_f1.csv\u001b[39m\u001b[38;5;124m'\u001b[39m\u001b[38;5;124m WITH CSV HEADER;\u001b[39m\u001b[38;5;124m\"\u001b[39m, \u001b[38;5;28mopen\u001b[39m(\u001b[38;5;124m'\u001b[39m\u001b[38;5;124moutput.csv\u001b[39m\u001b[38;5;124m'\u001b[39m, \u001b[38;5;124m'\u001b[39m\u001b[38;5;124mw\u001b[39m\u001b[38;5;124m'\u001b[39m))\n\u001b[0;32m      7\u001b[0m conn\u001b[38;5;241m.\u001b[39mcommit()\n\u001b[0;32m      8\u001b[0m cur\u001b[38;5;241m.\u001b[39mclose()\n",
      "\u001b[1;31mInsufficientPrivilege\u001b[0m: could not open file \"C:/Users/Alexandra/Desktop/neo_pr/dm.fill_f101_round_f1.csv\" for writing: Permission denied\nHINT:  COPY TO instructs the PostgreSQL server process to write a file. You may want a client-side facility such as psql's \\copy.\n"
     ]
    }
   ],
   "source": [
    "import psycopg2\n",
    "\n",
    "conn = psycopg2.connect(\"host='localhost' port='5432' dbname='postgres' user='postgres' password='postgres'\")\n",
    "# переменная conn создаёт подключение к БД\n",
    "cur = conn.cursor() \n",
    "cur.copy_expert(\"COPY (SELECT * FROM dm.dm_f101_round_f) TO 'C:/Users/Alexandra/Desktop/neo_pr/dm.fill_f101_round_f1.csv' WITH CSV HEADER;\", open('output.csv', 'w'))\n",
    "conn.commit()\n",
    "cur.close()\n",
    "conn.close()"
   ]
  },
  {
   "cell_type": "code",
   "execution_count": null,
   "id": "61df42e2-2a3e-41fb-a7fa-60b0363ef20e",
   "metadata": {},
   "outputs": [],
   "source": []
  }
 ],
 "metadata": {
  "kernelspec": {
   "display_name": "Python 3 (ipykernel)",
   "language": "python",
   "name": "python3"
  },
  "language_info": {
   "codemirror_mode": {
    "name": "ipython",
    "version": 3
   },
   "file_extension": ".py",
   "mimetype": "text/x-python",
   "name": "python",
   "nbconvert_exporter": "python",
   "pygments_lexer": "ipython3",
   "version": "3.11.7"
  }
 },
 "nbformat": 4,
 "nbformat_minor": 5
}
